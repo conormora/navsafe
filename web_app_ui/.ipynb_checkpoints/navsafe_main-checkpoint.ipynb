{
 "cells": [
  {
   "cell_type": "code",
   "execution_count": 10,
   "metadata": {
    "id": "325yX_RtzqtG"
   },
   "outputs": [],
   "source": [
    "# !pip3 install flask\n",
    "# !pip3 install click\n",
    "# !pip3 install Werkzeug\n",
    "# !pip3 install flask_sqlalchemy"
   ]
  },
  {
   "cell_type": "code",
   "execution_count": 11,
   "metadata": {
    "id": "WNiDiO1zzqtN"
   },
   "outputs": [],
   "source": [
    "import os\n",
    "os.environ[\"FLASK_APP\"] = 'flaskr'\n",
    "os.environ[\"FLASK_ENV\"] = 'development'"
   ]
  },
  {
   "cell_type": "code",
   "execution_count": 12,
   "metadata": {
    "id": "Fr59yb8szqtO",
    "outputId": "7000f537-7ac7-45b5-bdaa-b25ed4fb2f2a"
   },
   "outputs": [
    {
     "name": "stdout",
     "output_type": "stream",
     "text": [
      "zsh:1: command not found: flask\r\n"
     ]
    }
   ],
   "source": [
    "!flask run"
   ]
  },
  {
   "cell_type": "code",
   "execution_count": null,
   "metadata": {},
   "outputs": [],
   "source": []
  }
 ],
 "metadata": {
  "colab": {
   "collapsed_sections": [],
   "name": "navsafe_main.ipynb",
   "provenance": []
  },
  "kernelspec": {
   "display_name": "Python 3 (ipykernel)",
   "language": "python",
   "name": "python3"
  },
  "language_info": {
   "codemirror_mode": {
    "name": "ipython",
    "version": 3
   },
   "file_extension": ".py",
   "mimetype": "text/x-python",
   "name": "python",
   "nbconvert_exporter": "python",
   "pygments_lexer": "ipython3",
   "version": "3.9.7"
  }
 },
 "nbformat": 4,
 "nbformat_minor": 1
}
